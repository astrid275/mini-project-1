{
 "cells": [
  {
   "cell_type": "code",
   "execution_count": 223,
   "id": "0891234e-9e82-4b7e-883c-43cbc870cc6a",
   "metadata": {},
   "outputs": [],
   "source": [
    "import pandas as pd\n",
    "mental_df = pd.read_csv('1- mental-illnesses-prevalence.csv')\n",
    "gdp_df = pd.read_csv('gdp_ppp_per_capita.csv')"
   ]
  },
  {
   "cell_type": "code",
   "execution_count": 224,
   "id": "f6523fb1-e865-4c46-b5bc-29ab1deef8da",
   "metadata": {},
   "outputs": [],
   "source": [
    "gdp_df.rename(columns = {'Country Name' : 'Country',}, inplace = True)"
   ]
  },
  {
   "cell_type": "code",
   "execution_count": 225,
   "id": "d80376c3-1726-4765-881c-9a3dc1dfc8e7",
   "metadata": {},
   "outputs": [],
   "source": [
    "gdp_df = gdp_df[[\"Country\", \"2009\", \"2010\", \"2011\", \"2012\", \"2013\", \"2014\", \"2015\", \"2016\", \"2017\", \"2018\", \"2019\"]]"
   ]
  },
  {
   "cell_type": "code",
   "execution_count": 226,
   "id": "e4a79712-f592-48a7-ba43-bdbc8b5a78b7",
   "metadata": {},
   "outputs": [],
   "source": [
    "gdp_long = gdp_df.melt(\n",
    "    id_vars=['Country'],          # Keep the Country column as is\n",
    "    var_name='Year',              # The column name for former year headers\n",
    "    value_name='GDP per Capita')   # The column name for the values"
   ]
  },
  {
   "cell_type": "code",
   "execution_count": 227,
   "id": "208c7562-168e-4354-9a78-05cfc387bd65",
   "metadata": {},
   "outputs": [],
   "source": [
    "gdp_long['Year'] = gdp_long['Year'].apply(int)"
   ]
  },
  {
   "cell_type": "code",
   "execution_count": 228,
   "id": "6bb1b30b-b7c4-41da-9e0a-5fdb7bb6dfb2",
   "metadata": {},
   "outputs": [],
   "source": [
    "gdp_long = gdp_long.sort_values(by=['Country', 'Year']).reset_index(drop=True)"
   ]
  },
  {
   "cell_type": "code",
   "execution_count": 229,
   "id": "9764ff86-f515-4f92-ab4f-b8a5e3c8b239",
   "metadata": {
    "scrolled": true
   },
   "outputs": [
    {
     "data": {
      "text/html": [
       "<div>\n",
       "<style scoped>\n",
       "    .dataframe tbody tr th:only-of-type {\n",
       "        vertical-align: middle;\n",
       "    }\n",
       "\n",
       "    .dataframe tbody tr th {\n",
       "        vertical-align: top;\n",
       "    }\n",
       "\n",
       "    .dataframe thead th {\n",
       "        text-align: right;\n",
       "    }\n",
       "</style>\n",
       "<table border=\"1\" class=\"dataframe\">\n",
       "  <thead>\n",
       "    <tr style=\"text-align: right;\">\n",
       "      <th></th>\n",
       "      <th>Country</th>\n",
       "      <th>Year</th>\n",
       "      <th>GDP per Capita</th>\n",
       "    </tr>\n",
       "  </thead>\n",
       "  <tbody>\n",
       "    <tr>\n",
       "      <th>0</th>\n",
       "      <td>Afghanistan</td>\n",
       "      <td>2009</td>\n",
       "      <td>1519.692923</td>\n",
       "    </tr>\n",
       "    <tr>\n",
       "      <th>1</th>\n",
       "      <td>Afghanistan</td>\n",
       "      <td>2010</td>\n",
       "      <td>1710.575411</td>\n",
       "    </tr>\n",
       "    <tr>\n",
       "      <th>2</th>\n",
       "      <td>Afghanistan</td>\n",
       "      <td>2011</td>\n",
       "      <td>1699.488110</td>\n",
       "    </tr>\n",
       "    <tr>\n",
       "      <th>3</th>\n",
       "      <td>Afghanistan</td>\n",
       "      <td>2012</td>\n",
       "      <td>1914.774228</td>\n",
       "    </tr>\n",
       "    <tr>\n",
       "      <th>4</th>\n",
       "      <td>Afghanistan</td>\n",
       "      <td>2013</td>\n",
       "      <td>2015.514775</td>\n",
       "    </tr>\n",
       "    <tr>\n",
       "      <th>...</th>\n",
       "      <td>...</td>\n",
       "      <td>...</td>\n",
       "      <td>...</td>\n",
       "    </tr>\n",
       "    <tr>\n",
       "      <th>2921</th>\n",
       "      <td>Zimbabwe</td>\n",
       "      <td>2015</td>\n",
       "      <td>2679.507615</td>\n",
       "    </tr>\n",
       "    <tr>\n",
       "      <th>2922</th>\n",
       "      <td>Zimbabwe</td>\n",
       "      <td>2016</td>\n",
       "      <td>2806.469032</td>\n",
       "    </tr>\n",
       "    <tr>\n",
       "      <th>2923</th>\n",
       "      <td>Zimbabwe</td>\n",
       "      <td>2017</td>\n",
       "      <td>3795.642431</td>\n",
       "    </tr>\n",
       "    <tr>\n",
       "      <th>2924</th>\n",
       "      <td>Zimbabwe</td>\n",
       "      <td>2018</td>\n",
       "      <td>4017.221716</td>\n",
       "    </tr>\n",
       "    <tr>\n",
       "      <th>2925</th>\n",
       "      <td>Zimbabwe</td>\n",
       "      <td>2019</td>\n",
       "      <td>3783.547898</td>\n",
       "    </tr>\n",
       "  </tbody>\n",
       "</table>\n",
       "<p>2926 rows × 3 columns</p>\n",
       "</div>"
      ],
      "text/plain": [
       "          Country  Year  GDP per Capita\n",
       "0     Afghanistan  2009     1519.692923\n",
       "1     Afghanistan  2010     1710.575411\n",
       "2     Afghanistan  2011     1699.488110\n",
       "3     Afghanistan  2012     1914.774228\n",
       "4     Afghanistan  2013     2015.514775\n",
       "...           ...   ...             ...\n",
       "2921     Zimbabwe  2015     2679.507615\n",
       "2922     Zimbabwe  2016     2806.469032\n",
       "2923     Zimbabwe  2017     3795.642431\n",
       "2924     Zimbabwe  2018     4017.221716\n",
       "2925     Zimbabwe  2019     3783.547898\n",
       "\n",
       "[2926 rows x 3 columns]"
      ]
     },
     "execution_count": 229,
     "metadata": {},
     "output_type": "execute_result"
    }
   ],
   "source": [
    "gdp_long"
   ]
  },
  {
   "cell_type": "code",
   "execution_count": 230,
   "id": "c9482db5-38c6-47fb-b2c1-8821570913b7",
   "metadata": {},
   "outputs": [
    {
     "data": {
      "text/plain": [
       "0       1990\n",
       "1       1991\n",
       "2       1992\n",
       "3       1993\n",
       "4       1994\n",
       "        ... \n",
       "6415    2015\n",
       "6416    2016\n",
       "6417    2017\n",
       "6418    2018\n",
       "6419    2019\n",
       "Name: Year, Length: 6420, dtype: int64"
      ]
     },
     "execution_count": 230,
     "metadata": {},
     "output_type": "execute_result"
    }
   ],
   "source": [
    "mental_df['Year']"
   ]
  },
  {
   "cell_type": "code",
   "execution_count": 231,
   "id": "4e81e62d-15a1-4474-9f52-41b95252c323",
   "metadata": {},
   "outputs": [],
   "source": [
    "mental_df = mental_df[['Entity','Year','Anxiety disorders (share of population) - Sex: Both - Age: Age-standardized']]"
   ]
  },
  {
   "cell_type": "code",
   "execution_count": 232,
   "id": "5acc0f58-34cb-4bbb-8c78-72f736626112",
   "metadata": {},
   "outputs": [],
   "source": [
    "mental_df.rename(columns = {'Anxiety disorders (share of population) - Sex: Both - Age: Age-standardized' : 'Anxiety Rate', \n",
    "                           'Entity' : 'Country',}, inplace = True)"
   ]
  },
  {
   "cell_type": "code",
   "execution_count": 233,
   "id": "aee1efbb-c86f-448f-9177-810bc94724fc",
   "metadata": {},
   "outputs": [],
   "source": [
    "mental_df = mental_df[(mental_df['Year'] >= 2009) & (mental_df['Year'] <= 2019)]"
   ]
  },
  {
   "cell_type": "code",
   "execution_count": 237,
   "id": "2fee8c2e-2d77-4557-be81-01ed7b51aaad",
   "metadata": {},
   "outputs": [],
   "source": [
    "merged_df = pd.merge(mental_df, gdp_long, on =['Country','Year'])"
   ]
  },
  {
   "cell_type": "code",
   "execution_count": 242,
   "id": "c3d27f3c-a62d-43e2-a3ce-5f914ea8a8c3",
   "metadata": {},
   "outputs": [
    {
     "data": {
      "text/plain": [
       "Country           1\n",
       "Year              1\n",
       "Anxiety Rate      1\n",
       "GDP per Capita    2\n",
       "dtype: int64"
      ]
     },
     "execution_count": 242,
     "metadata": {},
     "output_type": "execute_result"
    }
   ],
   "source": [
    "merged_df.isnull().nunique()"
   ]
  },
  {
   "cell_type": "code",
   "execution_count": null,
   "id": "9ad14cc2-a338-4e0f-b47b-b726fac70d6e",
   "metadata": {},
   "outputs": [],
   "source": [
    "#round anxiety rate and round gdp per capita to two decimal points"
   ]
  },
  {
   "cell_type": "code",
   "execution_count": 256,
   "id": "24fef6a0-916f-4f79-999c-9c275e360553",
   "metadata": {},
   "outputs": [
    {
     "data": {
      "text/html": [
       "<div>\n",
       "<style scoped>\n",
       "    .dataframe tbody tr th:only-of-type {\n",
       "        vertical-align: middle;\n",
       "    }\n",
       "\n",
       "    .dataframe tbody tr th {\n",
       "        vertical-align: top;\n",
       "    }\n",
       "\n",
       "    .dataframe thead th {\n",
       "        text-align: right;\n",
       "    }\n",
       "</style>\n",
       "<table border=\"1\" class=\"dataframe\">\n",
       "  <thead>\n",
       "    <tr style=\"text-align: right;\">\n",
       "      <th></th>\n",
       "      <th>Country</th>\n",
       "      <th>Year</th>\n",
       "      <th>Anxiety Rate</th>\n",
       "      <th>GDP per Capita</th>\n",
       "    </tr>\n",
       "  </thead>\n",
       "  <tbody>\n",
       "    <tr>\n",
       "      <th>33</th>\n",
       "      <td>American Samoa</td>\n",
       "      <td>2009</td>\n",
       "      <td>3.981515</td>\n",
       "      <td>NaN</td>\n",
       "    </tr>\n",
       "    <tr>\n",
       "      <th>34</th>\n",
       "      <td>American Samoa</td>\n",
       "      <td>2010</td>\n",
       "      <td>3.990867</td>\n",
       "      <td>NaN</td>\n",
       "    </tr>\n",
       "    <tr>\n",
       "      <th>35</th>\n",
       "      <td>American Samoa</td>\n",
       "      <td>2011</td>\n",
       "      <td>3.999533</td>\n",
       "      <td>NaN</td>\n",
       "    </tr>\n",
       "    <tr>\n",
       "      <th>36</th>\n",
       "      <td>American Samoa</td>\n",
       "      <td>2012</td>\n",
       "      <td>4.010580</td>\n",
       "      <td>NaN</td>\n",
       "    </tr>\n",
       "    <tr>\n",
       "      <th>37</th>\n",
       "      <td>American Samoa</td>\n",
       "      <td>2013</td>\n",
       "      <td>4.021694</td>\n",
       "      <td>NaN</td>\n",
       "    </tr>\n",
       "    <tr>\n",
       "      <th>...</th>\n",
       "      <td>...</td>\n",
       "      <td>...</td>\n",
       "      <td>...</td>\n",
       "      <td>...</td>\n",
       "    </tr>\n",
       "    <tr>\n",
       "      <th>1598</th>\n",
       "      <td>Somalia</td>\n",
       "      <td>2012</td>\n",
       "      <td>3.299153</td>\n",
       "      <td>NaN</td>\n",
       "    </tr>\n",
       "    <tr>\n",
       "      <th>1624</th>\n",
       "      <td>South Sudan</td>\n",
       "      <td>2016</td>\n",
       "      <td>5.004526</td>\n",
       "      <td>NaN</td>\n",
       "    </tr>\n",
       "    <tr>\n",
       "      <th>1625</th>\n",
       "      <td>South Sudan</td>\n",
       "      <td>2017</td>\n",
       "      <td>5.020987</td>\n",
       "      <td>NaN</td>\n",
       "    </tr>\n",
       "    <tr>\n",
       "      <th>1626</th>\n",
       "      <td>South Sudan</td>\n",
       "      <td>2018</td>\n",
       "      <td>5.009685</td>\n",
       "      <td>NaN</td>\n",
       "    </tr>\n",
       "    <tr>\n",
       "      <th>1627</th>\n",
       "      <td>South Sudan</td>\n",
       "      <td>2019</td>\n",
       "      <td>4.977677</td>\n",
       "      <td>NaN</td>\n",
       "    </tr>\n",
       "  </tbody>\n",
       "</table>\n",
       "<p>97 rows × 4 columns</p>\n",
       "</div>"
      ],
      "text/plain": [
       "             Country  Year  Anxiety Rate  GDP per Capita\n",
       "33    American Samoa  2009      3.981515             NaN\n",
       "34    American Samoa  2010      3.990867             NaN\n",
       "35    American Samoa  2011      3.999533             NaN\n",
       "36    American Samoa  2012      4.010580             NaN\n",
       "37    American Samoa  2013      4.021694             NaN\n",
       "...              ...   ...           ...             ...\n",
       "1598         Somalia  2012      3.299153             NaN\n",
       "1624     South Sudan  2016      5.004526             NaN\n",
       "1625     South Sudan  2017      5.020987             NaN\n",
       "1626     South Sudan  2018      5.009685             NaN\n",
       "1627     South Sudan  2019      4.977677             NaN\n",
       "\n",
       "[97 rows x 4 columns]"
      ]
     },
     "execution_count": 256,
     "metadata": {},
     "output_type": "execute_result"
    }
   ],
   "source": [
    "merged_df[merged_df['GDP per Capita'].isnull()]"
   ]
  },
  {
   "cell_type": "code",
   "execution_count": null,
   "id": "26c60fbe-b46b-434b-a48b-e8d4c0bb06fe",
   "metadata": {},
   "outputs": [],
   "source": []
  }
 ],
 "metadata": {
  "kernelspec": {
   "display_name": "Python 3 (ipykernel)",
   "language": "python",
   "name": "python3"
  },
  "language_info": {
   "codemirror_mode": {
    "name": "ipython",
    "version": 3
   },
   "file_extension": ".py",
   "mimetype": "text/x-python",
   "name": "python",
   "nbconvert_exporter": "python",
   "pygments_lexer": "ipython3",
   "version": "3.13.5"
  }
 },
 "nbformat": 4,
 "nbformat_minor": 5
}
