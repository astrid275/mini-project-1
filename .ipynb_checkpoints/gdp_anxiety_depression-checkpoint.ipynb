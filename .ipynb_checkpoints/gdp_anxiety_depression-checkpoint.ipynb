{
 "cells": [
  {
   "cell_type": "code",
   "execution_count": 415,
   "id": "0891234e-9e82-4b7e-883c-43cbc870cc6a",
   "metadata": {},
   "outputs": [],
   "source": [
    "import pandas as pd\n",
    "mental_df = pd.read_csv('1- mental-illnesses-prevalence.csv')\n",
    "gdp_df = pd.read_csv('gdp_ppp_per_capita.csv')"
   ]
  },
  {
   "cell_type": "code",
   "execution_count": 416,
   "id": "f6523fb1-e865-4c46-b5bc-29ab1deef8da",
   "metadata": {},
   "outputs": [],
   "source": [
    "gdp_df.rename(columns = {'Country Name' : 'country', 'Year':'year'}, inplace = True)"
   ]
  },
  {
   "cell_type": "code",
   "execution_count": 417,
   "id": "d80376c3-1726-4765-881c-9a3dc1dfc8e7",
   "metadata": {},
   "outputs": [],
   "source": [
    "gdp_df = gdp_df[[\"country\", \"2009\", \"2010\", \"2011\", \"2012\", \"2013\", \"2014\", \"2015\", \"2016\", \"2017\", \"2018\", \"2019\"]]"
   ]
  },
  {
   "cell_type": "code",
   "execution_count": 418,
   "id": "e4a79712-f592-48a7-ba43-bdbc8b5a78b7",
   "metadata": {},
   "outputs": [],
   "source": [
    "gdp_long = gdp_df.melt(\n",
    "    id_vars=['country'],          # Keep the Country column as is\n",
    "    var_name='year',              # The column name for former year headers\n",
    "    value_name='gdp_per_capita')   # The column name for the values"
   ]
  },
  {
   "cell_type": "code",
   "execution_count": 419,
   "id": "208c7562-168e-4354-9a78-05cfc387bd65",
   "metadata": {},
   "outputs": [],
   "source": [
    "gdp_long['year'] = gdp_long['year'].apply(int)"
   ]
  },
  {
   "cell_type": "code",
   "execution_count": 420,
   "id": "6bb1b30b-b7c4-41da-9e0a-5fdb7bb6dfb2",
   "metadata": {},
   "outputs": [],
   "source": [
    "gdp_long = gdp_long.sort_values(by=['country', 'year']).reset_index(drop=True)"
   ]
  },
  {
   "cell_type": "code",
   "execution_count": 421,
   "id": "9764ff86-f515-4f92-ab4f-b8a5e3c8b239",
   "metadata": {
    "scrolled": true
   },
   "outputs": [
    {
     "data": {
      "text/html": [
       "<div>\n",
       "<style scoped>\n",
       "    .dataframe tbody tr th:only-of-type {\n",
       "        vertical-align: middle;\n",
       "    }\n",
       "\n",
       "    .dataframe tbody tr th {\n",
       "        vertical-align: top;\n",
       "    }\n",
       "\n",
       "    .dataframe thead th {\n",
       "        text-align: right;\n",
       "    }\n",
       "</style>\n",
       "<table border=\"1\" class=\"dataframe\">\n",
       "  <thead>\n",
       "    <tr style=\"text-align: right;\">\n",
       "      <th></th>\n",
       "      <th>country</th>\n",
       "      <th>year</th>\n",
       "      <th>gdp_per_capita</th>\n",
       "    </tr>\n",
       "  </thead>\n",
       "  <tbody>\n",
       "    <tr>\n",
       "      <th>0</th>\n",
       "      <td>Afghanistan</td>\n",
       "      <td>2009</td>\n",
       "      <td>1519.692923</td>\n",
       "    </tr>\n",
       "    <tr>\n",
       "      <th>1</th>\n",
       "      <td>Afghanistan</td>\n",
       "      <td>2010</td>\n",
       "      <td>1710.575411</td>\n",
       "    </tr>\n",
       "    <tr>\n",
       "      <th>2</th>\n",
       "      <td>Afghanistan</td>\n",
       "      <td>2011</td>\n",
       "      <td>1699.488110</td>\n",
       "    </tr>\n",
       "    <tr>\n",
       "      <th>3</th>\n",
       "      <td>Afghanistan</td>\n",
       "      <td>2012</td>\n",
       "      <td>1914.774228</td>\n",
       "    </tr>\n",
       "    <tr>\n",
       "      <th>4</th>\n",
       "      <td>Afghanistan</td>\n",
       "      <td>2013</td>\n",
       "      <td>2015.514775</td>\n",
       "    </tr>\n",
       "    <tr>\n",
       "      <th>...</th>\n",
       "      <td>...</td>\n",
       "      <td>...</td>\n",
       "      <td>...</td>\n",
       "    </tr>\n",
       "    <tr>\n",
       "      <th>2921</th>\n",
       "      <td>Zimbabwe</td>\n",
       "      <td>2015</td>\n",
       "      <td>2679.507615</td>\n",
       "    </tr>\n",
       "    <tr>\n",
       "      <th>2922</th>\n",
       "      <td>Zimbabwe</td>\n",
       "      <td>2016</td>\n",
       "      <td>2806.469032</td>\n",
       "    </tr>\n",
       "    <tr>\n",
       "      <th>2923</th>\n",
       "      <td>Zimbabwe</td>\n",
       "      <td>2017</td>\n",
       "      <td>3795.642431</td>\n",
       "    </tr>\n",
       "    <tr>\n",
       "      <th>2924</th>\n",
       "      <td>Zimbabwe</td>\n",
       "      <td>2018</td>\n",
       "      <td>4017.221716</td>\n",
       "    </tr>\n",
       "    <tr>\n",
       "      <th>2925</th>\n",
       "      <td>Zimbabwe</td>\n",
       "      <td>2019</td>\n",
       "      <td>3783.547898</td>\n",
       "    </tr>\n",
       "  </tbody>\n",
       "</table>\n",
       "<p>2926 rows × 3 columns</p>\n",
       "</div>"
      ],
      "text/plain": [
       "          country  year  gdp_per_capita\n",
       "0     Afghanistan  2009     1519.692923\n",
       "1     Afghanistan  2010     1710.575411\n",
       "2     Afghanistan  2011     1699.488110\n",
       "3     Afghanistan  2012     1914.774228\n",
       "4     Afghanistan  2013     2015.514775\n",
       "...           ...   ...             ...\n",
       "2921     Zimbabwe  2015     2679.507615\n",
       "2922     Zimbabwe  2016     2806.469032\n",
       "2923     Zimbabwe  2017     3795.642431\n",
       "2924     Zimbabwe  2018     4017.221716\n",
       "2925     Zimbabwe  2019     3783.547898\n",
       "\n",
       "[2926 rows x 3 columns]"
      ]
     },
     "execution_count": 421,
     "metadata": {},
     "output_type": "execute_result"
    }
   ],
   "source": [
    "gdp_long"
   ]
  },
  {
   "cell_type": "code",
   "execution_count": 422,
   "id": "c9482db5-38c6-47fb-b2c1-8821570913b7",
   "metadata": {},
   "outputs": [
    {
     "data": {
      "text/plain": [
       "Entity                                                                                214\n",
       "Code                                                                                  205\n",
       "Year                                                                                   30\n",
       "Schizophrenia disorders (share of population) - Sex: Both - Age: Age-standardized    6406\n",
       "Depressive disorders (share of population) - Sex: Both - Age: Age-standardized       6416\n",
       "Anxiety disorders (share of population) - Sex: Both - Age: Age-standardized          6417\n",
       "Bipolar disorders (share of population) - Sex: Both - Age: Age-standardized          6385\n",
       "Eating disorders (share of population) - Sex: Both - Age: Age-standardized           6417\n",
       "dtype: int64"
      ]
     },
     "execution_count": 422,
     "metadata": {},
     "output_type": "execute_result"
    }
   ],
   "source": [
    "mental_df.nunique()"
   ]
  },
  {
   "cell_type": "code",
   "execution_count": 423,
   "id": "4e81e62d-15a1-4474-9f52-41b95252c323",
   "metadata": {},
   "outputs": [],
   "source": [
    "mental_df = mental_df[['Entity','Year','Anxiety disorders (share of population) - Sex: Both - Age: Age-standardized','Depressive disorders (share of population) - Sex: Both - Age: Age-standardized']]"
   ]
  },
  {
   "cell_type": "code",
   "execution_count": 424,
   "id": "5acc0f58-34cb-4bbb-8c78-72f736626112",
   "metadata": {},
   "outputs": [],
   "source": [
    "mental_df.rename(columns = {'Anxiety disorders (share of population) - Sex: Both - Age: Age-standardized' : 'anxiety_rate', \n",
    "                           'Entity' : 'country','Depressive disorders (share of population) - Sex: Both - Age: Age-standardized':'depressive_disorder_rate', 'Year':'year'}, inplace = True)"
   ]
  },
  {
   "cell_type": "code",
   "execution_count": 425,
   "id": "aee1efbb-c86f-448f-9177-810bc94724fc",
   "metadata": {},
   "outputs": [],
   "source": [
    "mental_df = mental_df[(mental_df['year'] >= 2009) & (mental_df['year'] <= 2019)]"
   ]
  },
  {
   "cell_type": "code",
   "execution_count": 426,
   "id": "2fee8c2e-2d77-4557-be81-01ed7b51aaad",
   "metadata": {},
   "outputs": [],
   "source": [
    "merged_df = pd.merge(mental_df, gdp_long, on =['country','year'])"
   ]
  },
  {
   "cell_type": "code",
   "execution_count": 427,
   "id": "6e82067d-0328-4597-bd13-12e603133f83",
   "metadata": {},
   "outputs": [
    {
     "data": {
      "text/plain": [
       "country                      0\n",
       "year                         0\n",
       "anxiety_rate                 0\n",
       "depressive_disorder_rate     0\n",
       "gdp_per_capita              97\n",
       "dtype: int64"
      ]
     },
     "execution_count": 427,
     "metadata": {},
     "output_type": "execute_result"
    }
   ],
   "source": [
    "merged_df.isnull().sum()"
   ]
  },
  {
   "cell_type": "code",
   "execution_count": 428,
   "id": "bd935802-8ba8-4dab-aebd-eb101d76dad1",
   "metadata": {},
   "outputs": [],
   "source": [
    "merged_df = merged_df.round(3)"
   ]
  },
  {
   "cell_type": "code",
   "execution_count": 429,
   "id": "5fd24272-c6bf-4ae7-bcf9-6fc2c62c1052",
   "metadata": {
    "scrolled": true
   },
   "outputs": [
    {
     "name": "stdout",
     "output_type": "stream",
     "text": [
      "<class 'pandas.core.frame.DataFrame'>\n",
      "RangeIndex: 1936 entries, 0 to 1935\n",
      "Data columns (total 5 columns):\n",
      " #   Column                    Non-Null Count  Dtype  \n",
      "---  ------                    --------------  -----  \n",
      " 0   country                   1936 non-null   object \n",
      " 1   year                      1936 non-null   int64  \n",
      " 2   anxiety_rate              1936 non-null   float64\n",
      " 3   depressive_disorder_rate  1936 non-null   float64\n",
      " 4   gdp_per_capita            1839 non-null   float64\n",
      "dtypes: float64(3), int64(1), object(1)\n",
      "memory usage: 75.8+ KB\n"
     ]
    }
   ],
   "source": [
    "merged_df.info()"
   ]
  },
  {
   "cell_type": "code",
   "execution_count": 430,
   "id": "24fef6a0-916f-4f79-999c-9c275e360553",
   "metadata": {},
   "outputs": [],
   "source": [
    "merged_df.dropna(inplace = True)"
   ]
  },
  {
   "cell_type": "code",
   "execution_count": 431,
   "id": "564b3f2e-7e4d-4110-8fec-533e4b3b8fad",
   "metadata": {},
   "outputs": [
    {
     "data": {
      "text/plain": [
       "country                     0\n",
       "year                        0\n",
       "anxiety_rate                0\n",
       "depressive_disorder_rate    0\n",
       "gdp_per_capita              0\n",
       "dtype: int64"
      ]
     },
     "execution_count": 431,
     "metadata": {},
     "output_type": "execute_result"
    }
   ],
   "source": [
    "merged_df.isnull().sum()"
   ]
  },
  {
   "cell_type": "code",
   "execution_count": 432,
   "id": "4a221b7b-cc42-4c59-b1fb-9422c22324e7",
   "metadata": {},
   "outputs": [
    {
     "data": {
      "text/html": [
       "<div>\n",
       "<style scoped>\n",
       "    .dataframe tbody tr th:only-of-type {\n",
       "        vertical-align: middle;\n",
       "    }\n",
       "\n",
       "    .dataframe tbody tr th {\n",
       "        vertical-align: top;\n",
       "    }\n",
       "\n",
       "    .dataframe thead th {\n",
       "        text-align: right;\n",
       "    }\n",
       "</style>\n",
       "<table border=\"1\" class=\"dataframe\">\n",
       "  <thead>\n",
       "    <tr style=\"text-align: right;\">\n",
       "      <th></th>\n",
       "      <th>country</th>\n",
       "      <th>year</th>\n",
       "      <th>anxiety_rate</th>\n",
       "      <th>depressive_disorder_rate</th>\n",
       "      <th>gdp_per_capita</th>\n",
       "    </tr>\n",
       "  </thead>\n",
       "  <tbody>\n",
       "    <tr>\n",
       "      <th>0</th>\n",
       "      <td>Afghanistan</td>\n",
       "      <td>2009</td>\n",
       "      <td>4.695</td>\n",
       "      <td>4.949</td>\n",
       "      <td>1519.693</td>\n",
       "    </tr>\n",
       "    <tr>\n",
       "      <th>1</th>\n",
       "      <td>Afghanistan</td>\n",
       "      <td>2010</td>\n",
       "      <td>4.702</td>\n",
       "      <td>4.947</td>\n",
       "      <td>1710.575</td>\n",
       "    </tr>\n",
       "    <tr>\n",
       "      <th>2</th>\n",
       "      <td>Afghanistan</td>\n",
       "      <td>2011</td>\n",
       "      <td>4.716</td>\n",
       "      <td>4.945</td>\n",
       "      <td>1699.488</td>\n",
       "    </tr>\n",
       "    <tr>\n",
       "      <th>3</th>\n",
       "      <td>Afghanistan</td>\n",
       "      <td>2012</td>\n",
       "      <td>4.739</td>\n",
       "      <td>4.945</td>\n",
       "      <td>1914.774</td>\n",
       "    </tr>\n",
       "    <tr>\n",
       "      <th>4</th>\n",
       "      <td>Afghanistan</td>\n",
       "      <td>2013</td>\n",
       "      <td>4.767</td>\n",
       "      <td>4.944</td>\n",
       "      <td>2015.515</td>\n",
       "    </tr>\n",
       "    <tr>\n",
       "      <th>...</th>\n",
       "      <td>...</td>\n",
       "      <td>...</td>\n",
       "      <td>...</td>\n",
       "      <td>...</td>\n",
       "      <td>...</td>\n",
       "    </tr>\n",
       "    <tr>\n",
       "      <th>1931</th>\n",
       "      <td>Zimbabwe</td>\n",
       "      <td>2015</td>\n",
       "      <td>3.184</td>\n",
       "      <td>3.408</td>\n",
       "      <td>2679.508</td>\n",
       "    </tr>\n",
       "    <tr>\n",
       "      <th>1932</th>\n",
       "      <td>Zimbabwe</td>\n",
       "      <td>2016</td>\n",
       "      <td>3.187</td>\n",
       "      <td>3.411</td>\n",
       "      <td>2806.469</td>\n",
       "    </tr>\n",
       "    <tr>\n",
       "      <th>1933</th>\n",
       "      <td>Zimbabwe</td>\n",
       "      <td>2017</td>\n",
       "      <td>3.188</td>\n",
       "      <td>3.412</td>\n",
       "      <td>3795.642</td>\n",
       "    </tr>\n",
       "    <tr>\n",
       "      <th>1934</th>\n",
       "      <td>Zimbabwe</td>\n",
       "      <td>2018</td>\n",
       "      <td>3.172</td>\n",
       "      <td>3.407</td>\n",
       "      <td>4017.222</td>\n",
       "    </tr>\n",
       "    <tr>\n",
       "      <th>1935</th>\n",
       "      <td>Zimbabwe</td>\n",
       "      <td>2019</td>\n",
       "      <td>3.137</td>\n",
       "      <td>3.395</td>\n",
       "      <td>3783.548</td>\n",
       "    </tr>\n",
       "  </tbody>\n",
       "</table>\n",
       "<p>1839 rows × 5 columns</p>\n",
       "</div>"
      ],
      "text/plain": [
       "          country  year  anxiety_rate  depressive_disorder_rate  \\\n",
       "0     Afghanistan  2009         4.695                     4.949   \n",
       "1     Afghanistan  2010         4.702                     4.947   \n",
       "2     Afghanistan  2011         4.716                     4.945   \n",
       "3     Afghanistan  2012         4.739                     4.945   \n",
       "4     Afghanistan  2013         4.767                     4.944   \n",
       "...           ...   ...           ...                       ...   \n",
       "1931     Zimbabwe  2015         3.184                     3.408   \n",
       "1932     Zimbabwe  2016         3.187                     3.411   \n",
       "1933     Zimbabwe  2017         3.188                     3.412   \n",
       "1934     Zimbabwe  2018         3.172                     3.407   \n",
       "1935     Zimbabwe  2019         3.137                     3.395   \n",
       "\n",
       "      gdp_per_capita  \n",
       "0           1519.693  \n",
       "1           1710.575  \n",
       "2           1699.488  \n",
       "3           1914.774  \n",
       "4           2015.515  \n",
       "...              ...  \n",
       "1931        2679.508  \n",
       "1932        2806.469  \n",
       "1933        3795.642  \n",
       "1934        4017.222  \n",
       "1935        3783.548  \n",
       "\n",
       "[1839 rows x 5 columns]"
      ]
     },
     "execution_count": 432,
     "metadata": {},
     "output_type": "execute_result"
    }
   ],
   "source": [
    "merged_df"
   ]
  },
  {
   "cell_type": "code",
   "execution_count": 433,
   "id": "26c60fbe-b46b-434b-a48b-e8d4c0bb06fe",
   "metadata": {},
   "outputs": [],
   "source": [
    "merged_df.to_csv('gdp_anxietyrates.csv', index=False)"
   ]
  }
 ],
 "metadata": {
  "kernelspec": {
   "display_name": "Python 3 (ipykernel)",
   "language": "python",
   "name": "python3"
  },
  "language_info": {
   "codemirror_mode": {
    "name": "ipython",
    "version": 3
   },
   "file_extension": ".py",
   "mimetype": "text/x-python",
   "name": "python",
   "nbconvert_exporter": "python",
   "pygments_lexer": "ipython3",
   "version": "3.13.5"
  }
 },
 "nbformat": 4,
 "nbformat_minor": 5
}
